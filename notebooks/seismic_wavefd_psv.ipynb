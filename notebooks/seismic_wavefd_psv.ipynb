{
 "metadata": {
  "name": "seismic_wavefd_psv"
 },
 "nbformat": 3,
 "nbformat_minor": 0,
 "worksheets": [
  {
   "cells": [
    {
     "cell_type": "markdown",
     "metadata": {},
     "source": [
      "# Simulate the propagation of elastic SH waves"
     ]
    },
    {
     "cell_type": "code",
     "collapsed": false,
     "input": [
      "%pylab qt\n",
      "from matplotlib import animation\n",
      "from fatiando import seismic, gridder\n",
      "from fatiando.vis import mpl"
     ],
     "language": "python",
     "metadata": {},
     "outputs": [
      {
       "output_type": "stream",
       "stream": "stdout",
       "text": [
        "\n",
        "Welcome to pylab, a matplotlib-based Python environment [backend: Qt4Agg].\n",
        "For more information, type 'help(pylab)'.\n"
       ]
      }
     ],
     "prompt_number": 1
    },
    {
     "cell_type": "markdown",
     "metadata": {},
     "source": [
      "First we need a density and S wave velocity model. Actually we need the Lam\u00e9 parameter $\\mu = \\rho V_S^2$."
     ]
    },
    {
     "cell_type": "code",
     "collapsed": false,
     "input": [
      "shape = (200, 200)\n",
      "area = [0, 60000, 0, 60000]\n",
      "spacing = (area[-1]/shape[0], area[1]/shape[1])\n",
      "print spacing\n",
      "density = 2700*ones(shape)\n",
      "mu = density*(3000**2) # Lame parameter\n",
      "lamb = density*(4000**2) - 2*mu # Lame parameter"
     ],
     "language": "python",
     "metadata": {},
     "outputs": [
      {
       "output_type": "stream",
       "stream": "stdout",
       "text": [
        "(300, 300)\n"
       ]
      }
     ],
     "prompt_number": 2
    },
    {
     "cell_type": "markdown",
     "metadata": {},
     "source": [
      "Now lets make some Mexican hat (Ricker) wavelet sources."
     ]
    },
    {
     "cell_type": "code",
     "collapsed": false,
     "input": [
      "#sources = [seismic.wavefd.MexHatSource(int(12500/spacing[0]), int(12500/spacing[1]), 100, 1, delay=2),\n",
      "#           seismic.wavefd.MexHatSource(int(2500/spacing[0]),  int(25000/spacing[0]), 20,  1, delay=15),\n",
      "#           seismic.wavefd.MexHatSource(int(37500/spacing[0]), int(37500/spacing[0]), 50,  1, delay=25)]\n",
      "sources = [seismic.wavefd.MexHatSource(int(30000/spacing[0]), int(30000/spacing[1]), 100, 0.7, delay=2)]"
     ],
     "language": "python",
     "metadata": {},
     "outputs": [],
     "prompt_number": 3
    },
    {
     "cell_type": "markdown",
     "metadata": {},
     "source": [
      "Now we can do a Von Neumann type analysis of the largest time step we can take."
     ]
    },
    {
     "cell_type": "code",
     "collapsed": false,
     "input": [
      "maxdt = float(0.606*spacing[0])/4000\n",
      "print maxdt"
     ],
     "language": "python",
     "metadata": {},
     "outputs": [
      {
       "output_type": "stream",
       "stream": "stdout",
       "text": [
        "0.04545\n"
       ]
      }
     ],
     "prompt_number": 4
    },
    {
     "cell_type": "markdown",
     "metadata": {},
     "source": [
      "And start off our iterator that performs the time steps of the finite differences simulation."
     ]
    },
    {
     "cell_type": "code",
     "collapsed": false,
     "input": [
      "dt = maxdt\n",
      "duration = 30\n",
      "maxit = int(duration/dt)\n",
      "timesteps = seismic.wavefd.elastic_psv(spacing, shape, mu, lamb, density, dt, maxit, sources, sources, padding=50, taper=0.005)"
     ],
     "language": "python",
     "metadata": {},
     "outputs": [],
     "prompt_number": 5
    },
    {
     "cell_type": "markdown",
     "metadata": {},
     "source": [
      "Next, we use the very cool animation features of matplotlib to plot an animation of the particle motion and also a seismogram next to it (located at the black triangle)."
     ]
    },
    {
     "cell_type": "code",
     "collapsed": false,
     "input": [
      "seismometer = shape[1]/2\n",
      "vmin, vmax = -10**(-5), 10**(-5)\n",
      "fig = mpl.figure(figsize=(14, 10))\n",
      "mpl.subplot(2, 2, 1)\n",
      "mpl.title('x component seismogram')\n",
      "xseismogram, = mpl.plot([],[],'-k')\n",
      "mpl.xlim(0, duration)\n",
      "mpl.ylim(-10**(-4), 10**(-4))\n",
      "ax_x = mpl.subplot(2, 2, 3)\n",
      "# Start with everything zero and grab the plot so that it can be updated later\n",
      "xwavefield = mpl.imshow(zeros(shape), vmin=vmin, vmax=vmax, cmap=mpl.cm.gray_r)\n",
      "mpl.plot(seismometer, 1, '^k')\n",
      "mpl.set_area([0, shape[1], shape[0], 0])\n",
      "ax_x.set_xticklabels(['%.0f' % (x*spacing[1]*0.001) for x in ax_x.get_xticks()])\n",
      "ax_x.set_yticklabels(['%.0f' % (y*spacing[0]*0.001) for y in ax_x.get_yticks()])\n",
      "mpl.xlabel('x (km)')\n",
      "mpl.ylabel('z (km)')\n",
      "mpl.subplot(2, 2, 2)\n",
      "mpl.title('z component seismogram')\n",
      "zseismogram, = mpl.plot([],[],'-k')\n",
      "mpl.xlim(0, duration)\n",
      "mpl.ylim(-10**(-4), 10**(-4))\n",
      "ax_z = mpl.subplot(2, 2, 4)\n",
      "# Start with everything zero and grab the plot so that it can be updated later\n",
      "zwavefield = mpl.imshow(zeros(shape), vmin=vmin, vmax=vmax, cmap=mpl.cm.gray_r)\n",
      "mpl.plot(seismometer, 1, '^k')\n",
      "mpl.set_area([0, shape[1], shape[0], 0])\n",
      "ax_z.set_xticklabels(['%.0f' % (x*spacing[1]*0.001) for x in ax_z.get_xticks()])\n",
      "ax_z.set_yticklabels(['%.0f' % (y*spacing[0]*0.001) for y in ax_z.get_yticks()])\n",
      "mpl.xlabel('x (km)')\n",
      "mpl.ylabel('z (km)')\n",
      "xamplitudes = []\n",
      "zamplitudes = []\n",
      "times = []\n",
      "# This function updates the plot every few timesteps\n",
      "steps_per_frame = int(0.1/dt)\n",
      "def animate(i):\n",
      "    for t, update in enumerate(timesteps):\n",
      "        ux, uz = update\n",
      "        times.append(dt*(t + i*steps_per_frame))\n",
      "        xamplitudes.append(ux[0, seismometer])\n",
      "        zamplitudes.append(uz[0, seismometer])\n",
      "        if t == steps_per_frame - 1:\n",
      "            ax_x.set_title('ux time: %0.1f s' % (times[-1]))\n",
      "            ax_z.set_title('uz time: %0.1f s' % (times[-1]))\n",
      "            xwavefield.set_array(ux)\n",
      "            zwavefield.set_array(uz)\n",
      "            xseismogram.set_data(times, xamplitudes)\n",
      "            zseismogram.set_data(times, zamplitudes)\n",
      "            break\n",
      "    return xwavefield, xseismogram, zwavefield, zseismogram\n",
      "anim = animation.FuncAnimation(fig, animate, frames=maxit/steps_per_frame, interval=1)\n",
      "#anim.save('psv_wave.mp4', fps=20, dpi=200, bitrate=4000)\n",
      "mpl.show()"
     ],
     "language": "python",
     "metadata": {},
     "outputs": [],
     "prompt_number": 6
    },
    {
     "cell_type": "code",
     "collapsed": false,
     "input": [
      "def run():\n",
      "    timesteps = seismic.wavefd.elastic_psv(spacing, shape, mu, lamb, density, dt, maxit, sources, sources, padding=50, taper=0.005)\n",
      "    for u in timesteps:\n",
      "        continue\n",
      "%timeit run()"
     ],
     "language": "python",
     "metadata": {},
     "outputs": [
      {
       "output_type": "stream",
       "stream": "stdout",
       "text": [
        "1 loops, best of 3: 9.6 s per loop\n"
       ]
      }
     ],
     "prompt_number": 25
    },
    {
     "cell_type": "code",
     "collapsed": false,
     "input": [
      "\n"
     ],
     "language": "python",
     "metadata": {},
     "outputs": []
    }
   ],
   "metadata": {}
  }
 ]
}