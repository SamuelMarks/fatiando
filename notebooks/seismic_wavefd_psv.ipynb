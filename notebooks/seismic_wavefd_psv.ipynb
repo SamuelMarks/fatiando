{
 "metadata": {
  "name": ""
 },
 "nbformat": 3,
 "nbformat_minor": 0,
 "worksheets": [
  {
   "cells": [
    {
     "cell_type": "markdown",
     "metadata": {},
     "source": [
      "# Simulate the propagation of elastic P-SV waves"
     ]
    },
    {
     "cell_type": "code",
     "collapsed": false,
     "input": [
      "import numpy as np\n",
      "from matplotlib import animation\n",
      "from fatiando import seismic, gridder\n",
      "from fatiando.vis import mpl"
     ],
     "language": "python",
     "metadata": {},
     "outputs": [],
     "prompt_number": 1
    },
    {
     "cell_type": "markdown",
     "metadata": {},
     "source": [
      "First we need a density and S wave velocity model. Actually we need the Lam\u00e9 parameter $\\mu = \\rho V_S^2$."
     ]
    },
    {
     "cell_type": "code",
     "collapsed": false,
     "input": [
      "shape = (150, 600)\n",
      "area = [0, 120000, 0, 30000]\n",
      "spacing = (area[-1]/shape[0], area[1]/shape[1])\n",
      "print spacing\n",
      "pvel = 6600\n",
      "svel = 3700\n",
      "dens = 2400\n",
      "density = dens*np.ones(shape)\n",
      "#h = 50\n",
      "#density[h:] = 2400\n",
      "mu = density*(svel**2)\n",
      "#mu[h:] = density[h:]*(3000**2)\n",
      "lamb = density*(pvel**2) - 2*mu\n",
      "#lamb[h:] = density[h:]*(5000**2) - 2*mu[h:]\n",
      "print lamb.max(), mu.max()"
     ],
     "language": "python",
     "metadata": {},
     "outputs": [
      {
       "output_type": "stream",
       "stream": "stdout",
       "text": [
        "(200, 200)\n",
        "38832000000.0 32856000000.0\n"
       ]
      }
     ],
     "prompt_number": 2
    },
    {
     "cell_type": "markdown",
     "metadata": {},
     "source": [
      "Now lets make some Mexican hat (Ricker) wavelet sources."
     ]
    },
    {
     "cell_type": "code",
     "collapsed": false,
     "input": [
      "xsources, zsources = [], [seismic.wavefd.MexHatSource(10000, 10000, area, shape, 5000, 0.5, delay=0)]\n",
      "#xsources, zsources = seismic.wavefd.blast_source(10000, 10000, area, shape, 5000, 0.7, delay=0)"
     ],
     "language": "python",
     "metadata": {},
     "outputs": [],
     "prompt_number": 17
    },
    {
     "cell_type": "markdown",
     "metadata": {},
     "source": [
      "Now we can do a Von Neumann type analysis of the largest time step we can take."
     ]
    },
    {
     "cell_type": "code",
     "collapsed": false,
     "input": [
      "maxdt = float(0.606*spacing[0])/pvel\n",
      "print maxdt"
     ],
     "language": "python",
     "metadata": {},
     "outputs": [
      {
       "output_type": "stream",
       "stream": "stdout",
       "text": [
        "0.0183636363636\n"
       ]
      }
     ],
     "prompt_number": 18
    },
    {
     "cell_type": "markdown",
     "metadata": {},
     "source": [
      "And start off our iterator that performs the time steps of the finite differences simulation."
     ]
    },
    {
     "cell_type": "code",
     "collapsed": false,
     "input": [
      "dt = maxdt\n",
      "dt = 0.01\n",
      "duration = 30\n",
      "maxit = int(duration/dt)\n",
      "snapshot = int(0.5/dt)\n",
      "stations = [[100000, 0]]"
     ],
     "language": "python",
     "metadata": {},
     "outputs": [],
     "prompt_number": 19
    },
    {
     "cell_type": "markdown",
     "metadata": {},
     "source": [
      "Next, we use the very cool animation features of matplotlib to plot an animation of the particle motion and also a seismogram next to it (located at the black triangle)."
     ]
    },
    {
     "cell_type": "code",
     "collapsed": false,
     "input": [
      "simulation = seismic.wavefd.elastic_psv(mu, lamb, density, area, dt, maxit, xsources, zsources, stations, snapshot, \n",
      "                                        padding=50, taper=0.005)\n",
      "fig = mpl.figure(figsize=(14, 8))\n",
      "mpl.subplot(2, 2, 2)\n",
      "mpl.title('x component seismogram')\n",
      "xseismogram, = mpl.plot([],[],'-k')\n",
      "mpl.xlim(0, duration)\n",
      "mpl.ylim(-10**(-4), 10**(-4))\n",
      "mpl.subplot(2, 2, 4)\n",
      "mpl.title('z component seismogram')\n",
      "zseismogram, = mpl.plot([],[],'-k')\n",
      "mpl.xlim(0, duration)\n",
      "mpl.ylim(-10**(-4), 10**(-4))\n",
      "mpl.subplot(1, 2, 1)\n",
      "# Start with everything zero and grab the plot so that it can be updated later\n",
      "wavefield = mpl.imshow(np.zeros(shape), extent=area, vmin=-10**-4, vmax=10**-4, cmap=mpl.cm.gray_r)\n",
      "mpl.points(stations, '^k')\n",
      "mpl.ylim(area[2:][::-1])\n",
      "mpl.xlabel('x (km)')\n",
      "mpl.ylabel('z (km)')\n",
      "mpl.m2km()\n",
      "times = np.linspace(0, maxit*dt, maxit)\n",
      "# This function updates the plot every few timesteps\n",
      "def animate(i):\n",
      "    t, ux, xcomp, uz, zcomp = simulation.next()\n",
      "    p, s = [l*1000 for l in seismic.wavefd.xz2ps(ux, uz, area)]            \n",
      "    mpl.title('time: %0.1f s' % (times[t]))\n",
      "    wavefield.set_array((p + s)[::-1])\n",
      "    xseismogram.set_data(times[:t+1], xcomp[0][:t+1])\n",
      "    zseismogram.set_data(times[:t+1], zcomp[0][:t+1])\n",
      "    return wavefield, xseismogram, zseismogram\n",
      "anim = animation.FuncAnimation(fig, animate, frames=maxit/snapshot, interval=1)\n",
      "#anim.save('psv_wave.mp4', fps=20, dpi=200, bitrate=4000)\n",
      "mpl.show()"
     ],
     "language": "python",
     "metadata": {},
     "outputs": [],
     "prompt_number": 20
    },
    {
     "cell_type": "code",
     "collapsed": false,
     "input": [
      "%timeit seismic.wavefd.elastic_psv(mu, lamb, density, area, dt, maxit, xsources, zsources, padding=50, taper=0.005).next()"
     ],
     "language": "python",
     "metadata": {},
     "outputs": [],
     "prompt_number": "*"
    },
    {
     "cell_type": "code",
     "collapsed": false,
     "input": [
      "import scipy.sparse.linalg as la"
     ],
     "language": "python",
     "metadata": {},
     "outputs": [],
     "prompt_number": 7
    },
    {
     "cell_type": "code",
     "collapsed": false,
     "input": [
      "la.cg"
     ],
     "language": "python",
     "metadata": {},
     "outputs": []
    }
   ],
   "metadata": {}
  }
 ]
}