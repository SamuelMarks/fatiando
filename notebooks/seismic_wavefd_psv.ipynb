{
 "metadata": {
  "name": ""
 },
 "nbformat": 3,
 "nbformat_minor": 0,
 "worksheets": [
  {
   "cells": [
    {
     "cell_type": "markdown",
     "metadata": {},
     "source": [
      "# Simulate the propagation of elastic SH waves"
     ]
    },
    {
     "cell_type": "code",
     "collapsed": false,
     "input": [
      "import numpy as np\n",
      "from matplotlib import animation\n",
      "from fatiando import seismic, gridder\n",
      "from fatiando.vis import mpl"
     ],
     "language": "python",
     "metadata": {},
     "outputs": [],
     "prompt_number": 1
    },
    {
     "cell_type": "markdown",
     "metadata": {},
     "source": [
      "First we need a density and S wave velocity model. Actually we need the Lam\u00e9 parameter $\\mu = \\rho V_S^2$."
     ]
    },
    {
     "cell_type": "code",
     "collapsed": false,
     "input": [
      "shape = (200, 200)\n",
      "area = [0, 60000, 0, 60000]\n",
      "spacing = (area[-1]/shape[0], area[1]/shape[1])\n",
      "print spacing\n",
      "density = 2700*np.ones(shape)\n",
      "mu = density*(3000**2) # Lame parameter\n",
      "lamb = density*(4000**2) - 2*mu # Lame parameter"
     ],
     "language": "python",
     "metadata": {},
     "outputs": [
      {
       "output_type": "stream",
       "stream": "stdout",
       "text": [
        "(300, 300)\n"
       ]
      }
     ],
     "prompt_number": 3
    },
    {
     "cell_type": "markdown",
     "metadata": {},
     "source": [
      "Now lets make some Mexican hat (Ricker) wavelet sources."
     ]
    },
    {
     "cell_type": "code",
     "collapsed": false,
     "input": [
      "sources = [seismic.wavefd.MexHatSource(30000, 30000, area, shape, 100, 0.7, delay=2)]"
     ],
     "language": "python",
     "metadata": {},
     "outputs": [],
     "prompt_number": 4
    },
    {
     "cell_type": "markdown",
     "metadata": {},
     "source": [
      "Now we can do a Von Neumann type analysis of the largest time step we can take."
     ]
    },
    {
     "cell_type": "code",
     "collapsed": false,
     "input": [
      "maxdt = float(0.606*spacing[0])/4000\n",
      "print maxdt"
     ],
     "language": "python",
     "metadata": {},
     "outputs": [
      {
       "output_type": "stream",
       "stream": "stdout",
       "text": [
        "0.04545\n"
       ]
      }
     ],
     "prompt_number": 11
    },
    {
     "cell_type": "markdown",
     "metadata": {},
     "source": [
      "And start off our iterator that performs the time steps of the finite differences simulation."
     ]
    },
    {
     "cell_type": "code",
     "collapsed": false,
     "input": [
      "dt = maxdt\n",
      "duration = 30\n",
      "maxit = int(duration/dt)\n",
      "snapshot = int(0.5/dt)\n",
      "stations = [[50000, 0]]\n",
      "simulation = seismic.wavefd.elastic_psv(mu, lamb, density, area, dt, maxit, sources, sources, stations, snapshot, padding=50, taper=0.005)"
     ],
     "language": "python",
     "metadata": {},
     "outputs": [],
     "prompt_number": 12
    },
    {
     "cell_type": "markdown",
     "metadata": {},
     "source": [
      "Next, we use the very cool animation features of matplotlib to plot an animation of the particle motion and also a seismogram next to it (located at the black triangle)."
     ]
    },
    {
     "cell_type": "code",
     "collapsed": false,
     "input": [
      "vmin, vmax = -10**(-5), 10**(-5)\n",
      "fig = mpl.figure(figsize=(14, 10))\n",
      "mpl.subplot(2, 2, 1)\n",
      "mpl.title('x component seismogram')\n",
      "xseismogram, = mpl.plot([],[],'-k')\n",
      "mpl.xlim(0, duration)\n",
      "mpl.ylim(-10**(-4), 10**(-4))\n",
      "ax_x = mpl.subplot(2, 2, 3)\n",
      "# Start with everything zero and grab the plot so that it can be updated later\n",
      "xwavefield = mpl.imshow(np.zeros(shape), extent=area, vmin=vmin, vmax=vmax, cmap=mpl.cm.gray_r)\n",
      "mpl.points(stations, '^k')\n",
      "mpl.ylim(area[2:][::-1])\n",
      "mpl.xlabel('x (km)')\n",
      "mpl.ylabel('z (km)')\n",
      "mpl.subplot(2, 2, 2)\n",
      "mpl.title('z component seismogram')\n",
      "zseismogram, = mpl.plot([],[],'-k')\n",
      "mpl.xlim(0, duration)\n",
      "mpl.ylim(-10**(-4), 10**(-4))\n",
      "ax_z = mpl.subplot(2, 2, 4)\n",
      "# Start with everything zero and grab the plot so that it can be updated later\n",
      "zwavefield = mpl.imshow(np.zeros(shape), extent=area, vmin=vmin, vmax=vmax, cmap=mpl.cm.gray_r)\n",
      "mpl.points(stations, '^k')\n",
      "mpl.ylim(area[2:][::-1])\n",
      "mpl.xlabel('x (km)')\n",
      "mpl.ylabel('z (km)')\n",
      "times = np.linspace(0, maxit*dt, maxit)\n",
      "# This function updates the plot every few timesteps\n",
      "def animate(i):\n",
      "    t, ux, xcomp, uz, zcomp = simulation.next()\n",
      "    ax_x.set_title('ux time: %0.1f s' % (times[t]))\n",
      "    ax_z.set_title('uz time: %0.1f s' % (times[t]))\n",
      "    xwavefield.set_array(ux[::-1])\n",
      "    zwavefield.set_array(uz[::-1])\n",
      "    xseismogram.set_data(times[:t+1], xcomp[0][:t+1])\n",
      "    zseismogram.set_data(times[:t+1], zcomp[0][:t+1])\n",
      "    return xwavefield, xseismogram, zwavefield, zseismogram\n",
      "anim = animation.FuncAnimation(fig, animate, frames=maxit/snapshot, interval=1)\n",
      "#anim.save('psv_wave.mp4', fps=20, dpi=200, bitrate=4000)\n",
      "mpl.show()"
     ],
     "language": "python",
     "metadata": {},
     "outputs": [],
     "prompt_number": 13
    },
    {
     "cell_type": "code",
     "collapsed": false,
     "input": [
      "%timeit seismic.wavefd.elastic_psv(mu, lamb, density, area, dt, maxit, sources, sources, padding=50, taper=0.005).next()"
     ],
     "language": "python",
     "metadata": {},
     "outputs": [
      {
       "output_type": "stream",
       "stream": "stdout",
       "text": [
        "1 loops, best of 3: 7.31 s per loop\n"
       ]
      }
     ],
     "prompt_number": 15
    },
    {
     "cell_type": "code",
     "collapsed": false,
     "input": [
      "\n"
     ],
     "language": "python",
     "metadata": {},
     "outputs": []
    }
   ],
   "metadata": {}
  }
 ]
}