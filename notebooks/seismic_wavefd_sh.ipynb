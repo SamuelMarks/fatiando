{
 "metadata": {
  "name": ""
 },
 "nbformat": 3,
 "nbformat_minor": 0,
 "worksheets": [
  {
   "cells": [
    {
     "cell_type": "markdown",
     "metadata": {},
     "source": [
      "# Simulate the propagation of elastic SH waves"
     ]
    },
    {
     "cell_type": "code",
     "collapsed": false,
     "input": [
      "import numpy as np\n",
      "from matplotlib import animation\n",
      "from fatiando import seismic, gridder\n",
      "from fatiando.vis import mpl"
     ],
     "language": "python",
     "metadata": {},
     "outputs": [],
     "prompt_number": 1
    },
    {
     "cell_type": "markdown",
     "metadata": {},
     "source": [
      "First we need a density and S wave velocity model. Actually we need the Lam\u00e9 parameter $\\mu = \\rho V_S^2$."
     ]
    },
    {
     "cell_type": "code",
     "collapsed": false,
     "input": [
      "shape = (150, 150)\n",
      "area = [0, 60000, 0, 60000]\n",
      "spacing = (area[-1]/shape[0], area[1]/shape[1])\n",
      "print spacing\n",
      "density = 2700*np.ones(shape)\n",
      "velocity = 3000\n",
      "mu = density*(velocity**2) # Lame parameter"
     ],
     "language": "python",
     "metadata": {},
     "outputs": [
      {
       "output_type": "stream",
       "stream": "stdout",
       "text": [
        "(400, 400)\n"
       ]
      }
     ],
     "prompt_number": 2
    },
    {
     "cell_type": "markdown",
     "metadata": {},
     "source": [
      "Now lets make some Mexican hat (Ricker) wavelet sources."
     ]
    },
    {
     "cell_type": "code",
     "collapsed": false,
     "input": [
      "sources = [seismic.wavefd.MexHatSource(30000, 15000, area, shape, 100, 1, delay=2)]"
     ],
     "language": "python",
     "metadata": {},
     "outputs": [],
     "prompt_number": 3
    },
    {
     "cell_type": "markdown",
     "metadata": {},
     "source": [
      "Now we can do a Von Neumann type analysis of the largest time step we can take."
     ]
    },
    {
     "cell_type": "code",
     "collapsed": false,
     "input": [
      "maxdt = float(0.606*spacing[0])/velocity\n",
      "print maxdt"
     ],
     "language": "python",
     "metadata": {},
     "outputs": [
      {
       "output_type": "stream",
       "stream": "stdout",
       "text": [
        "0.0808\n"
       ]
      }
     ],
     "prompt_number": 4
    },
    {
     "cell_type": "markdown",
     "metadata": {},
     "source": [
      "And start off our iterator that performs the time steps of the finite differences simulation."
     ]
    },
    {
     "cell_type": "code",
     "collapsed": false,
     "input": [
      "dt = maxdt\n",
      "duration = 50\n",
      "maxit = int(duration/dt)\n",
      "stations = [[50000, 0]]\n",
      "snapshot = int(0.5/dt)\n",
      "simulation = seismic.wavefd.elastic_sh(mu, density, area, dt, maxit, sources, stations, snapshot, padding=50, taper=0.01)"
     ],
     "language": "python",
     "metadata": {},
     "outputs": [],
     "prompt_number": 12
    },
    {
     "cell_type": "markdown",
     "metadata": {},
     "source": [
      "Next, we use the very cool animation features of matplotlib to plot an animation of the particle motion and also a seismogram next to it (located at the black triangle)."
     ]
    },
    {
     "cell_type": "code",
     "collapsed": false,
     "input": [
      "fig = mpl.figure(figsize=(14, 5))\n",
      "ax = mpl.subplot(1, 2, 2)\n",
      "mpl.title('Wavefield')\n",
      "# Start with everything zero and grab the plot so that it can be updated later\n",
      "wavefield_plt = mpl.imshow(np.zeros(shape), extent=area, vmin=-10**(-5), vmax=10**(-5), cmap=mpl.cm.gray_r)\n",
      "mpl.points(stations, '^b')\n",
      "mpl.xlim(area[:2])\n",
      "mpl.ylim(area[2:][::-1])\n",
      "mpl.xlabel('x (km)')\n",
      "mpl.ylabel('z (km)')\n",
      "mpl.subplot(1, 2, 1)\n",
      "seismogram_plt, = mpl.plot([],[],'-k')\n",
      "mpl.xlim(0, duration)\n",
      "mpl.ylim(-10**(-4), 10**(-4))\n",
      "mpl.xlabel('time (s)')\n",
      "mpl.ylabel('Amplitude')\n",
      "times = np.linspace(0, duration, maxit)\n",
      "# Update the plot everytime the simulation yields\n",
      "def animate(i):    \n",
      "    t, u, seismograms = simulation.next()\n",
      "    mpl.title('time: %0.1f s' % (times[t]))\n",
      "    wavefield_plt.set_array(u[::-1])\n",
      "    seismogram_plt.set_data(times[:t + 1], seismograms[0][:t + 1])\n",
      "    return wavefield_plt, seismogram_plt\n",
      "anim = animation.FuncAnimation(fig, animate, frames=maxit/snapshot, interval=1)\n",
      "#anim.save('sh_wave.mp4', fps=10, dpi=200, bitrate=4000)\n",
      "mpl.show()"
     ],
     "language": "python",
     "metadata": {},
     "outputs": [],
     "prompt_number": 13
    },
    {
     "cell_type": "markdown",
     "metadata": {},
     "source": [
      "Time how long the simulation takes to run:"
     ]
    },
    {
     "cell_type": "code",
     "collapsed": false,
     "input": [
      "%timeit seismic.wavefd.elastic_sh(mu, density, area, dt, maxit, sources, padding=50, taper=0.01).next()"
     ],
     "language": "python",
     "metadata": {},
     "outputs": [
      {
       "output_type": "stream",
       "stream": "stdout",
       "text": [
        "1 loops, best of 3: 2.59 s per loop\n"
       ]
      }
     ],
     "prompt_number": 11
    },
    {
     "cell_type": "code",
     "collapsed": false,
     "input": [],
     "language": "python",
     "metadata": {},
     "outputs": []
    }
   ],
   "metadata": {}
  }
 ]
}