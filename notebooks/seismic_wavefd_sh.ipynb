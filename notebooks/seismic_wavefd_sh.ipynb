{
 "metadata": {
  "name": "seismic_wavefd_sh"
 },
 "nbformat": 3,
 "nbformat_minor": 0,
 "worksheets": [
  {
   "cells": [
    {
     "cell_type": "markdown",
     "metadata": {},
     "source": [
      "# Simulate the propagation of elastic SH waves"
     ]
    },
    {
     "cell_type": "code",
     "collapsed": false,
     "input": [
      "%pylab qt\n",
      "from matplotlib import animation\n",
      "from fatiando import seismic, gridder\n",
      "from fatiando.vis import mpl"
     ],
     "language": "python",
     "metadata": {},
     "outputs": [
      {
       "output_type": "stream",
       "stream": "stdout",
       "text": [
        "\n",
        "Welcome to pylab, a matplotlib-based Python environment [backend: Qt4Agg].\n",
        "For more information, type 'help(pylab)'.\n"
       ]
      }
     ],
     "prompt_number": 1
    },
    {
     "cell_type": "markdown",
     "metadata": {},
     "source": [
      "First we need a density and S wave velocity model. Actually we need the Lam\u00e9 parameter $\\mu = \\rho V_S^2$."
     ]
    },
    {
     "cell_type": "code",
     "collapsed": false,
     "input": [
      "shape = (150, 150)\n",
      "area = [0, 60000, 0, 60000]\n",
      "spacing = (area[-1]/shape[0], area[1]/shape[1])\n",
      "print spacing\n",
      "density = 2700*ones(shape)\n",
      "velocity = 3000\n",
      "mu = density*(velocity**2) # Lame parameter"
     ],
     "language": "python",
     "metadata": {},
     "outputs": [
      {
       "output_type": "stream",
       "stream": "stdout",
       "text": [
        "(400, 400)\n"
       ]
      }
     ],
     "prompt_number": 2
    },
    {
     "cell_type": "markdown",
     "metadata": {},
     "source": [
      "Now lets make some Mexican hat (Ricker) wavelet sources."
     ]
    },
    {
     "cell_type": "code",
     "collapsed": false,
     "input": [
      "sources = [seismic.wavefd.MexHatSource(int(12500/spacing[0]), int(12500/spacing[1]), 100, 1, delay=2),\n",
      "           seismic.wavefd.MexHatSource(int(2500/spacing[0]),  int(25000/spacing[0]), 20,  1, delay=15),\n",
      "           seismic.wavefd.MexHatSource(int(37500/spacing[0]), int(37500/spacing[0]), 50,  1, delay=25)]"
     ],
     "language": "python",
     "metadata": {},
     "outputs": [],
     "prompt_number": 3
    },
    {
     "cell_type": "markdown",
     "metadata": {},
     "source": [
      "Now we can do a Von Neumann type analysis of the largest time step we can take."
     ]
    },
    {
     "cell_type": "code",
     "collapsed": false,
     "input": [
      "maxdt = float(0.606*spacing[0])/velocity\n",
      "print maxdt"
     ],
     "language": "python",
     "metadata": {},
     "outputs": [
      {
       "output_type": "stream",
       "stream": "stdout",
       "text": [
        "0.0808\n"
       ]
      }
     ],
     "prompt_number": 4
    },
    {
     "cell_type": "markdown",
     "metadata": {},
     "source": [
      "And start off our iterator that performs the time steps of the finite differences simulation."
     ]
    },
    {
     "cell_type": "code",
     "collapsed": false,
     "input": [
      "dt = maxdt\n",
      "duration = 50\n",
      "maxit = int(duration/dt)\n",
      "timesteps = seismic.wavefd.elastic_sh(spacing, shape, mu, density, dt, maxit, sources, padding=50, taper=0.01)"
     ],
     "language": "python",
     "metadata": {},
     "outputs": [],
     "prompt_number": 7
    },
    {
     "cell_type": "markdown",
     "metadata": {},
     "source": [
      "Next, we use the very cool animation features of matplotlib to plot an animation of the particle motion and also a seismogram next to it (located at the black triangle)."
     ]
    },
    {
     "cell_type": "code",
     "collapsed": false,
     "input": [
      "seismometer = shape[1]/2\n",
      "vmin, vmax = -10**(-5), 10**(-5)\n",
      "fig = mpl.figure(figsize=(14, 5))\n",
      "ax = mpl.subplot(1, 2, 1)\n",
      "mpl.title('Particle motion')\n",
      "# Start with everything zero and grab the plot so that it can be updated later\n",
      "wavefield = mpl.imshow(zeros(shape), vmin=vmin, vmax=vmax, cmap=mpl.cm.gray_r)\n",
      "mpl.plot(seismometer, 1, '^k')\n",
      "mpl.set_area([0, shape[1], shape[0], 0])\n",
      "ax.set_xticklabels(['%g' % (x*spacing[1]*0.001) for x in ax.get_xticks()])\n",
      "ax.set_yticklabels(['%g' % (y*spacing[0]*0.001) for y in ax.get_yticks()])\n",
      "mpl.xlabel('x (km)')\n",
      "mpl.ylabel('z (km)')\n",
      "mpl.subplot(1, 2, 2)\n",
      "seismogram, = mpl.plot([],[],'-k')\n",
      "mpl.xlim(0, duration)\n",
      "mpl.ylim(-10**(-4), 10**(-4))\n",
      "mpl.xlabel('time (s)')\n",
      "mpl.ylabel('Seismogram')\n",
      "amplitudes = []\n",
      "times = []\n",
      "# This function updates the plot every few timesteps\n",
      "steps_per_frame = int(0.5/dt)\n",
      "def animate(i):\n",
      "    for t, u in enumerate(timesteps):\n",
      "        times.append(dt*(t + i*steps_per_frame))\n",
      "        amplitudes.append(u[0, seismometer])\n",
      "        if t == steps_per_frame - 1:\n",
      "            mpl.title('time: %0.1f s' % (times[-1]))\n",
      "            wavefield.set_array(u)\n",
      "            seismogram.set_data(times, amplitudes)\n",
      "            break\n",
      "    return wavefield, seismogram\n",
      "anim = animation.FuncAnimation(fig, animate, frames=maxit/steps_per_frame, interval=1)\n",
      "#anim.save('sh_wave.mp4', fps=10, dpi=200, bitrate=4000)\n",
      "mpl.show()"
     ],
     "language": "python",
     "metadata": {},
     "outputs": [],
     "prompt_number": 8
    },
    {
     "cell_type": "code",
     "collapsed": false,
     "input": [
      "def run():\n",
      "    timesteps = seismic.wavefd.elastic_sh(spacing, shape, mu, density, dt, maxit, sources, padding=50, taper=0.01)\n",
      "    for u in timesteps:\n",
      "        continue\n",
      "%timeit run()"
     ],
     "language": "python",
     "metadata": {},
     "outputs": [
      {
       "output_type": "stream",
       "stream": "stdout",
       "text": [
        "1 loops, best of 3: 3.28 s per loop\n"
       ]
      }
     ],
     "prompt_number": 9
    },
    {
     "cell_type": "code",
     "collapsed": false,
     "input": [
      "\n"
     ],
     "language": "python",
     "metadata": {},
     "outputs": []
    }
   ],
   "metadata": {}
  }
 ]
}