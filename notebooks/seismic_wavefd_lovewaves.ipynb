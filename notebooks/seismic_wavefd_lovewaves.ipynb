{
 "metadata": {
  "name": "seismic_wavefd_lovewaves"
 },
 "nbformat": 3,
 "nbformat_minor": 0,
 "worksheets": [
  {
   "cells": [
    {
     "cell_type": "code",
     "collapsed": false,
     "input": [
      "%pylab\n",
      "from matplotlib import animation\n",
      "from fatiando import seismic, gridder, io\n",
      "from fatiando.vis import mpl"
     ],
     "language": "python",
     "metadata": {},
     "outputs": [
      {
       "output_type": "stream",
       "stream": "stdout",
       "text": [
        "\n",
        "Welcome to pylab, a matplotlib-based Python environment [backend: Qt4Agg].\n",
        "For more information, type 'help(pylab)'.\n"
       ]
      }
     ],
     "prompt_number": 1
    },
    {
     "cell_type": "code",
     "collapsed": false,
     "input": [
      "density = io.fromimage('crust.png', ranges=[2700, 3300])\n",
      "mu = io.fromimage('crust.png', ranges=[2700*3000**2, 3300*5000**2])\n",
      "shape = density.shape\n",
      "area = [0, 800000, 0, 160000]\n",
      "spacing = (area[-1]/shape[0], area[1]/shape[1])\n",
      "print spacing"
     ],
     "language": "python",
     "metadata": {},
     "outputs": [
      {
       "output_type": "stream",
       "stream": "stdout",
       "text": [
        "(533, 533)\n"
       ]
      }
     ],
     "prompt_number": 2
    },
    {
     "cell_type": "code",
     "collapsed": false,
     "input": [
      "sources = [seismic.wavefd.MexHatSource(int(10000/spacing[0]), int(10000/spacing[1]), 5000, 0.5, delay=2),\n",
      "           seismic.wavefd.MexHatSource(int(11000/spacing[0]), int(10000/spacing[1]), 5000, 0.5, delay=3),\n",
      "           seismic.wavefd.MexHatSource(int(12000/spacing[0]), int(12000/spacing[1]), 5000, 0.5, delay=4)]"
     ],
     "language": "python",
     "metadata": {},
     "outputs": [],
     "prompt_number": 3
    },
    {
     "cell_type": "code",
     "collapsed": false,
     "input": [
      "maxdt = float(0.606*min(spacing))/5000\n",
      "print maxdt"
     ],
     "language": "python",
     "metadata": {},
     "outputs": [
      {
       "output_type": "stream",
       "stream": "stdout",
       "text": [
        "0.0645996\n"
       ]
      }
     ],
     "prompt_number": 4
    },
    {
     "cell_type": "code",
     "collapsed": false,
     "input": [
      "dt = maxdt\n",
      "duration = 400\n",
      "maxit = int(duration/dt)\n",
      "padding = 80\n",
      "timesteps = seismic.wavefd.elastic_sh(spacing, shape, mu, density, dt, maxit, sources, padding=padding, taper=0.003)"
     ],
     "language": "python",
     "metadata": {},
     "outputs": [],
     "prompt_number": 5
    },
    {
     "cell_type": "code",
     "collapsed": false,
     "input": [
      "seismometer = int(750000/spacing[1])\n",
      "gain = 10**7\n",
      "fig = mpl.figure(figsize=(10, 5))\n",
      "mpl.subplots_adjust(right=0.98, left=0.11, hspace=0.3, top=0.93)\n",
      "mpl.subplot(2, 1, 1)\n",
      "mpl.title('Seismogram')\n",
      "seismogram, = mpl.plot([],[],'-k')\n",
      "mpl.xlim(0, duration)\n",
      "mpl.ylim(-2*10**(-3), 2*10**(-3))\n",
      "mpl.ylabel('Amplitude')\n",
      "ax = mpl.subplot(2, 1, 2)\n",
      "mpl.title('time: 0.0 s')\n",
      "wavefield = mpl.imshow(density, cmap=mpl.cm.gray_r, vmin=2000, vmax=4000)\n",
      "mpl.plot(seismometer, 8, '^b', markersize=8)\n",
      "mpl.text(50, 50, 'Crust') \n",
      "mpl.text(50, 200, 'Mantle')\n",
      "fig.text(0.87, 0.47, 'Seismometer')\n",
      "mpl.set_area([0, shape[1], shape[0], 0])\n",
      "ax.set_xticklabels(['%.0f' % (x*spacing[1]*0.001) for x in ax.get_xticks()])\n",
      "ax.set_yticklabels(['%.0f' % (y*spacing[0]*0.001) for y in ax.get_yticks()])\n",
      "mpl.xlabel('x (km)')\n",
      "mpl.ylabel('z (km)')\n",
      "amplitudes = []\n",
      "times = []\n",
      "# This function updates the plot every few timesteps\n",
      "steps_per_frame = int(0.5/dt)\n",
      "#steps_per_frame = 500"
     ],
     "language": "python",
     "metadata": {},
     "outputs": [],
     "prompt_number": 6
    },
    {
     "cell_type": "code",
     "collapsed": false,
     "input": [
      "i = 0\n",
      "dpi = 600\n",
      "mpl.savefig('_tmp%05d.png' % (i), dpi=dpi)\n",
      "for t, u in enumerate(timesteps):\n",
      "    times.append(dt*t)\n",
      "    amplitudes.append(u[0, seismometer])\n",
      "    if t%steps_per_frame == 0:\n",
      "        i += 1\n",
      "        mpl.title('time: %0.1f s' % (times[-1]))\n",
      "        wavefield.set_array(density + gain*u)\n",
      "        seismogram.set_data(times, amplitudes)\n",
      "        mpl.draw()\n",
      "        mpl.savefig('_tmp%05d.png' % (i), dpi=dpi)"
     ],
     "language": "python",
     "metadata": {},
     "outputs": [],
     "prompt_number": 7
    },
    {
     "cell_type": "code",
     "collapsed": false,
     "input": [
      "def animate(i):\n",
      "    for t, u in enumerate(timesteps):\n",
      "        times.append(dt*(t + i*steps_per_frame))\n",
      "        amplitudes.append(u[0, seismometer])\n",
      "        if t == steps_per_frame - 1:\n",
      "            mpl.title('time: %0.1f s' % (times[-1]))\n",
      "            wavefield.set_array(density + gain*u)\n",
      "            seismogram.set_data(times, amplitudes)\n",
      "            break\n",
      "    return wavefield, seismogram\n",
      "anim = animation.FuncAnimation(fig, animate, frames=maxit/steps_per_frame, interval=1)\n",
      "#anim.save('love_wave_irregular.mp4', fps=60, bitrate=2000)\n",
      "mpl.show()"
     ],
     "language": "python",
     "metadata": {},
     "outputs": [],
     "prompt_number": 7
    },
    {
     "cell_type": "code",
     "collapsed": false,
     "input": [],
     "language": "python",
     "metadata": {},
     "outputs": []
    }
   ],
   "metadata": {}
  }
 ]
}