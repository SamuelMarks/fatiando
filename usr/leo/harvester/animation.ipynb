{
 "metadata": {
  "name": "animation"
 },
 "nbformat": 3,
 "nbformat_minor": 0,
 "worksheets": [
  {
   "cells": [
    {
     "cell_type": "code",
     "collapsed": false,
     "input": [
      "%pylab inline\n",
      "from fatiando import gravmag, mesher, gridder, utils\n",
      "from fatiando.vis import mpl, myv"
     ],
     "language": "python",
     "metadata": {},
     "outputs": [
      {
       "output_type": "stream",
       "stream": "stdout",
       "text": [
        "\n",
        "Welcome to pylab, a matplotlib-based Python environment [backend: module://IPython.zmq.pylab.backend_inline].\n",
        "For more information, type 'help(pylab)'.\n"
       ]
      }
     ],
     "prompt_number": 3
    },
    {
     "cell_type": "code",
     "collapsed": false,
     "input": [
      "bounds = [-1500, 1500, -1500, 1500, 0, 3000]\n",
      "props = {'magnetization':10}\n",
      "model = [mesher.Prism(-600,   0, -300, 300,  200,  800, props),\n",
      "         mesher.Prism(-300, 300, -300, 300,  800, 1400, props),\n",
      "         mesher.Prism(   0, 600, -300, 300, 1400, 2000, props)]\n",
      "\n",
      "inc, dec = -45, -10\n",
      "area = bounds[:4]\n",
      "shape = (25, 25)\n",
      "x, y, z = gridder.regular(area, shape, z=-150)\n",
      "tf = utils.contaminate(gravmag.prism.tf(x, y, z, model, inc, dec), stddev=5) # stddev is error in nT\n",
      "data = [gravmag.harvester.TotalField(x, y, z, tf, inc, dec)]"
     ],
     "language": "python",
     "metadata": {},
     "outputs": [],
     "prompt_number": 6
    },
    {
     "cell_type": "code",
     "collapsed": false,
     "input": [
      "mesh = mesher.PrismMesh(bounds, (30, 30, 30))\n",
      "print 'Mesh dimensions:', mesh.dims\n",
      "print 'Mesh size:', mesh.size\n",
      "locations = [[ -300, 0, 510, props], [ 0, 0, 1110, props], [ 300, 0, 1710, props]]\n",
      "seeds = gravmag.harvester.sow(locations, mesh)"
     ],
     "language": "python",
     "metadata": {},
     "outputs": [
      {
       "output_type": "stream",
       "stream": "stdout",
       "text": [
        "Mesh dimensions: (100.0, 100.0, 100.0)\n",
        "Mesh size: 27000\n"
       ]
      }
     ],
     "prompt_number": 25
    },
    {
     "cell_type": "code",
     "collapsed": false,
     "input": [
      "def view(scene):\n",
      "    scene.scene.camera.position = [-117.52348869194958, -7650.0015810004461, -1765.5463805838754]\n",
      "    scene.scene.camera.focal_point = [-66.333639971315037, -138.79871172194663, 1756.2877769501069]\n",
      "    scene.scene.camera.view_angle = 30.0\n",
      "    scene.scene.camera.view_up = [-0.0014193382206205926, 0.42453603367321352, -0.9054099301377424]\n",
      "    scene.scene.camera.clipping_range = [4241.9510618999884, 13458.358278841908]\n",
      "    scene.scene.camera.compute_view_plane_normal()\n",
      "    scene.scene.render()"
     ],
     "language": "python",
     "metadata": {},
     "outputs": [],
     "prompt_number": 9
    },
    {
     "cell_type": "code",
     "collapsed": false,
     "input": [
      "fig = myv.figure(size=(700, 700))\n",
      "#plot = myv.prisms(model, style='wireframe', linewidth=4)\n",
      "#plot.actor.mapper.scalar_visibility = False\n",
      "#plot.actor.actor.visibility = False\n",
      "myv.prisms([mesh[s.i] for s in seeds])\n",
      "myv.outline(bounds)\n",
      "myv.wall_bottom(bounds)\n",
      "myv.wall_east(bounds)\n",
      "view(fig)\n",
      "myv.savefig('seeds.png')\n",
      "myv.show()"
     ],
     "language": "python",
     "metadata": {},
     "outputs": [],
     "prompt_number": 37
    },
    {
     "cell_type": "code",
     "collapsed": false,
     "input": [
      "fig = myv.figure(size=(700, 700))\n",
      "#plot = myv.prisms(model, style='wireframe', linewidth=4)\n",
      "#plot.actor.mapper.scalar_visibility = False\n",
      "#plot.actor.actor.visibility = False\n",
      "myv.prisms([mesh[s.i] for s in seeds])\n",
      "myv.outline(bounds)\n",
      "myv.wall_bottom(bounds)\n",
      "myv.wall_east(bounds)\n",
      "view(fig)\n",
      "myv.savefig('seeds.png')\n",
      "for i, update in enumerate(gravmag.harvester.iharvest(data, seeds, mesh, compactness=3, threshold=0.0001)):\n",
      "    best, neighborhood = update[2:4]\n",
      "    if best is not None:\n",
      "        myv.prisms([mesh[best.i]])\n",
      "    plot = myv.prisms([mesh[n] for neighbors in neighborhood for n in neighbors], style='wireframe')\n",
      "    plot.actor.mapper.scalar_visibility = False\n",
      "    view(fig)\n",
      "    myv.savefig('frame%05d.png' % (i))\n",
      "    fig.children[-1].remove()\n",
      "myv.show()"
     ],
     "language": "python",
     "metadata": {},
     "outputs": [],
     "prompt_number": 35
    },
    {
     "cell_type": "code",
     "collapsed": false,
     "input": [],
     "language": "python",
     "metadata": {},
     "outputs": [],
     "prompt_number": 36
    },
    {
     "cell_type": "code",
     "collapsed": false,
     "input": [],
     "language": "python",
     "metadata": {},
     "outputs": []
    }
   ],
   "metadata": {}
  }
 ]
}