{
 "metadata": {
  "name": "gravmag_harvester_profile"
 }, 
 "nbformat": 2, 
 "worksheets": [
  {
   "cells": [
    {
     "cell_type": "code", 
     "collapsed": true, 
     "input": [
      "from fatiando import gridder, utils", 
      "from fatiando.mesher import Prism, PrismMesh", 
      "from fatiando import gravmag as gm", 
      "", 
      "props = {'density':1000}                                                        ", 
      "model = [Prism(400, 600, 300, 500, 200, 400, props),                            ", 
      "         Prism(400, 600, 400, 600, 400, 600, props),                            ", 
      "         Prism(400, 600, 500, 700, 600, 800, props)]                            ", 
      "# and generate synthetic data from it                                           ", 
      "shape = (51, 51)                                                                ", 
      "bounds = [0, 1000, 0, 1000, 0, 1000]                                            ", 
      "area = bounds[0:4]                                                              ", 
      "xp, yp, zp = gridder.regular(area, shape, z=-150)                               ", 
      "noise = 0.5                                                                     ", 
      "gxx = utils.contaminate(gm.prism.gxx(xp, yp, zp, model), noise)                 ", 
      "gxy = utils.contaminate(gm.prism.gxy(xp, yp, zp, model), noise)                 ", 
      "gxz = utils.contaminate(gm.prism.gxz(xp, yp, zp, model), noise)                 ", 
      "gyy = utils.contaminate(gm.prism.gyy(xp, yp, zp, model), noise)                 ", 
      "gyz = utils.contaminate(gm.prism.gyz(xp, yp, zp, model), noise)                 ", 
      "gzz = utils.contaminate(gm.prism.gzz(xp, yp, zp, model), noise)", 
      "# Setup the inversion", 
      "mesh = PrismMesh(bounds, (30, 30, 30))                                          ", 
      "# Wrap the data so that harvester can use it                                    ", 
      "data = [gm.harvester.Gxx(xp, yp, zp, gxx),                                      ", 
      "        gm.harvester.Gxy(xp, yp, zp, gxy),                                      ", 
      "        gm.harvester.Gxz(xp, yp, zp, gxz),                                      ", 
      "        gm.harvester.Gyy(xp, yp, zp, gyy),                                      ", 
      "        gm.harvester.Gyz(xp, yp, zp, gyz),                                      ", 
      "        gm.harvester.Gzz(xp, yp, zp, gzz)]                                      ", 
      "# Make the seeds                                                                ", 
      "seeds = gm.harvester.sow([                                                      ", 
      "    [500, 400, 210, {'density':1000}],                                          ", 
      "    [500, 550, 510, {'density':1000}]], mesh)                                   "
     ], 
     "language": "python", 
     "outputs": [], 
     "prompt_number": 1
    }, 
    {
     "cell_type": "code", 
     "collapsed": false, 
     "input": [
      "%prun -T gravmag_harvester_profile.dat gm.harvester.harvest(data, seeds, mesh, 0.5, 0.001)"
     ], 
     "language": "python", 
     "outputs": [
      {
       "output_type": "stream", 
       "stream": "stdout", 
       "text": [
        " ", 
        "*** Profile printout saved to text file u'gravmag_harvester_profile.dat'. "
       ]
      }
     ], 
     "prompt_number": 5
    }, 
    {
     "cell_type": "code", 
     "collapsed": true, 
     "input": [], 
     "language": "python", 
     "outputs": []
    }
   ]
  }
 ]
}