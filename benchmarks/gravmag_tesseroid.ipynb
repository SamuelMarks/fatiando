{
 "metadata": {
  "name": ""
 },
 "nbformat": 3,
 "nbformat_minor": 0,
 "worksheets": [
  {
   "cells": [
    {
     "cell_type": "markdown",
     "metadata": {},
     "source": [
      "# Benchmark the performance of gravmag.tesseroid\n",
      "\n",
      "Compare the fatiando implementation with [Tesseroids](http://leouieda.github.com/tesseroids/)"
     ]
    },
    {
     "cell_type": "code",
     "collapsed": false,
     "input": [
      "%pylab inline\n",
      "import numpy\n",
      "from fatiando import gridder, gravmag\n",
      "from fatiando.mesher import Tesseroid, TesseroidMesh\n",
      "from fatiando.vis import mpl"
     ],
     "language": "python",
     "metadata": {},
     "outputs": [
      {
       "output_type": "stream",
       "stream": "stdout",
       "text": [
        "Populating the interactive namespace from numpy and matplotlib\n"
       ]
      }
     ],
     "prompt_number": 1
    },
    {
     "cell_type": "markdown",
     "metadata": {},
     "source": [
      "## Setup\n",
      "\n",
      "Make a model with a lot of tesseroids.\n",
      "Doesn't really matter that they are overlapping as I'm only interested in the speed."
     ]
    },
    {
     "cell_type": "code",
     "collapsed": false,
     "input": [
      "# The setup\n",
      "model = TesseroidMesh((70, 110, -20, 20, 0, -50000), (1, 20, 20))\n",
      "model.addprop('density', 2700*numpy.ones(model.size))\n",
      "area = [80, 100, -10, 10]\n",
      "shape = [50, 50]\n",
      "lon, lat, height = gridder.regular(area, shape, z=50000)\n",
      "\n",
      "# Create a model file and a grid file for Tesseroids\n",
      "modfile = 'model.tmp'\n",
      "with open(modfile, 'w') as f:\n",
      "    for t in model:\n",
      "        f.write('%g %g %g %g %g %g %g\\n'\n",
      "            % (t.w, t.e, t.s, t.n, t.top, t.bottom, t.props['density']))\n",
      "gridfile = 'grid.tmp'\n",
      "numpy.savetxt(gridfile, numpy.transpose([lon, lat, height]), fmt='%g')\n",
      "\n",
      "lines = !wc -l model.tmp\n",
      "print \"lines\", lines[0]\n",
      "!head model.tmp\n",
      "lines = !wc -l grid.tmp\n",
      "print \"lines\", lines[0]\n",
      "!head grid.tmp"
     ],
     "language": "python",
     "metadata": {},
     "outputs": [
      {
       "output_type": "stream",
       "stream": "stdout",
       "text": [
        "lines 400 model.tmp\n",
        "70 72 -20 -18 0 -50000 2700\r\n",
        "72 74 -20 -18 0 -50000 2700\r\n",
        "74 76 -20 -18 0 -50000 2700\r\n",
        "76 78 -20 -18 0 -50000 2700\r\n",
        "78 80 -20 -18 0 -50000 2700\r\n",
        "80 82 -20 -18 0 -50000 2700\r\n",
        "82 84 -20 -18 0 -50000 2700\r\n",
        "84 86 -20 -18 0 -50000 2700\r\n",
        "86 88 -20 -18 0 -50000 2700\r\n",
        "88 90 -20 -18 0 -50000 2700\r\n"
       ]
      },
      {
       "output_type": "stream",
       "stream": "stdout",
       "text": [
        "lines 2500 grid.tmp\n",
        "80 -10 50000\r\n",
        "80.4082 -10 50000\r\n",
        "80.8163 -10 50000\r\n",
        "81.2245 -10 50000\r\n",
        "81.6327 -10 50000\r\n",
        "82.0408 -10 50000\r\n",
        "82.449 -10 50000\r\n",
        "82.8571 -10 50000\r\n",
        "83.2653 -10 50000\r\n",
        "83.6735 -10 50000\r\n"
       ]
      }
     ],
     "prompt_number": 2
    },
    {
     "cell_type": "markdown",
     "metadata": {},
     "source": [
      "## Time the execution\n",
      "\n",
      "First, run Tesseroids on the model:"
     ]
    },
    {
     "cell_type": "code",
     "collapsed": false,
     "input": [
      "# Time Tesseroids\n",
      "print \"Tesseroids:\"\n",
      "def timetess():\n",
      "    !/home/leo/src/tesseroids/bin/tessgzz model.tmp < grid.tmp > out.tmp\n",
      "%timeit timetess()"
     ],
     "language": "python",
     "metadata": {},
     "outputs": [
      {
       "output_type": "stream",
       "stream": "stdout",
       "text": [
        "Tesseroids:\n"
       ]
      },
      {
       "output_type": "stream",
       "stream": "stdout",
       "text": [
        "1 loops, best of 3: 9.14 s per loop\n"
       ]
      }
     ],
     "prompt_number": 49
    },
    {
     "cell_type": "markdown",
     "metadata": {},
     "source": [
      "Now run the fatiando implementation:"
     ]
    },
    {
     "cell_type": "code",
     "collapsed": false,
     "input": [
      "# Time fatiando.gravmag.tesseroid\n",
      "print \"fatiando.gravmag.tesseroid:\"\n",
      "%timeit gravmag.tesseroid.gzz(lon, lat, height, model)"
     ],
     "language": "python",
     "metadata": {},
     "outputs": [
      {
       "output_type": "stream",
       "stream": "stdout",
       "text": [
        "fatiando.gravmag.tesseroid:\n",
        "1 loops, best of 3: 10.9 s per loop"
       ]
      },
      {
       "output_type": "stream",
       "stream": "stdout",
       "text": [
        "\n"
       ]
      }
     ],
     "prompt_number": 3
    },
    {
     "cell_type": "code",
     "collapsed": false,
     "input": [
      "result = gravmag.tesseroid.gzz(lon, lat, height, model)"
     ],
     "language": "python",
     "metadata": {},
     "outputs": [],
     "prompt_number": 4
    },
    {
     "cell_type": "markdown",
     "metadata": {},
     "source": [
      "Do some checks on the results"
     ]
    },
    {
     "cell_type": "code",
     "collapsed": false,
     "input": [
      "# Check the results\n",
      "result_tesseroids = numpy.loadtxt('out.tmp', usecols=(-1,), unpack=True)\n",
      "diff = result_tesseroids - result"
     ],
     "language": "python",
     "metadata": {},
     "outputs": [],
     "prompt_number": 5
    },
    {
     "cell_type": "code",
     "collapsed": false,
     "input": [
      "print abs(diff).max(), abs(result_tesseroids).max(), abs(result).max(), abs(result_tesseroids).min(), abs(result).min()"
     ],
     "language": "python",
     "metadata": {},
     "outputs": [
      {
       "output_type": "stream",
       "stream": "stdout",
       "text": [
        "0.001020699222 50.2606376993 50.2606376986 41.6654882345 41.6654879544\n"
       ]
      }
     ],
     "prompt_number": 6
    },
    {
     "cell_type": "code",
     "collapsed": false,
     "input": [
      "mpl.figure(figsize=(21, 5))\n",
      "mpl.subplot(1, 3, 1)\n",
      "mpl.axis('scaled')\n",
      "mpl.contourf(lon, lat, result_tesseroids, shape, 30)\n",
      "mpl.colorbar()\n",
      "mpl.subplot(1, 3, 2)\n",
      "mpl.axis('scaled')\n",
      "mpl.contourf(lon, lat, result, shape, 30)\n",
      "mpl.colorbar()\n",
      "mpl.subplot(1, 3, 3)\n",
      "mpl.axis('scaled')\n",
      "mpl.contourf(lon, lat, diff, shape, 30)\n",
      "mpl.colorbar()"
     ],
     "language": "python",
     "metadata": {},
     "outputs": [
      {
       "metadata": {},
       "output_type": "pyout",
       "prompt_number": 7,
       "text": [
        "<matplotlib.colorbar.Colorbar instance at 0x48873b0>"
       ]
      },
      {
       "metadata": {},
       "output_type": "display_data",
       "png": "[encoded data removed]",
       "text": [
        "<matplotlib.figure.Figure at 0x407f810>"
       ]
      }
     ],
     "prompt_number": 7
    },
    {
     "cell_type": "markdown",
     "metadata": {},
     "source": [
      "## Profile the code"
     ]
    },
    {
     "cell_type": "markdown",
     "metadata": {},
     "source": [
      "First run cProfile to get a feel for the function calls."
     ]
    },
    {
     "cell_type": "code",
     "collapsed": false,
     "input": [
      "%prun -T gravmag_tesseroid.profile gravmag.tesseroid.gzz(lon, lat, height, model)"
     ],
     "language": "python",
     "metadata": {},
     "outputs": [
      {
       "output_type": "stream",
       "stream": "stdout",
       "text": [
        " \n",
        "*** Profile printout saved to text file u'gravmag_tesseroid.profile'. \n"
       ]
      }
     ],
     "prompt_number": 55
    },
    {
     "cell_type": "code",
     "collapsed": false,
     "input": [
      "!cat gravmag_tesseroid.profile"
     ],
     "language": "python",
     "metadata": {},
     "outputs": [
      {
       "output_type": "stream",
       "stream": "stdout",
       "text": [
        "         3271730 function calls in 12.030 seconds\r\n",
        "\r\n",
        "   Ordered by: internal time\r\n",
        "\r\n",
        "   ncalls  tottime  percall  cumtime  percall filename:lineno(function)\r\n",
        "   390384    6.548    0.000    6.548    0.000 {fatiando.gravmag._ctesseroid.gzz}\r\n",
        "        1    1.830    1.830   12.030   12.030 tesseroid.py:96(_optimal_discretize)\r\n",
        "   390384    1.628    0.000    1.628    0.000 {fatiando.gravmag._ctesseroid.too_close}\r\n",
        "   390384    1.332    0.000    1.332    0.000 {fatiando.gravmag._ctesseroid.distance}\r\n",
        "   390384    0.212    0.000    0.212    0.000 {max}\r\n",
        "   438732    0.156    0.000    0.156    0.000 tesseroid.py:147(_half)\r\n",
        "    48748    0.125    0.000    0.281    0.000 {method 'extend' of 'list' objects}\r\n",
        "   390384    0.108    0.000    0.108    0.000 {method 'pop' of 'list' objects}\r\n",
        "   829517    0.082    0.000    0.082    0.000 {len}\r\n",
        "      400    0.005    0.000    0.008    0.000 mesher.py:1078(__getitem__)\r\n",
        "      400    0.002    0.000    0.003    0.000 mesher.py:455(__init__)\r\n",
        "      401    0.001    0.000    0.009    0.000 mesher.py:1103(next)\r\n",
        "      800    0.001    0.000    0.001    0.000 mesher.py:1096(<genexpr>)\r\n",
        "      400    0.001    0.000    0.001    0.000 mesher.py:46(__init__)\r\n",
        "      400    0.000    0.000    0.000    0.000 mesher.py:471(get_bounds)\r\n",
        "        1    0.000    0.000   12.030   12.030 tesseroid.py:87(gzz)\r\n",
        "        6    0.000    0.000    0.000    0.000 {numpy.core.multiarray.zeros}\r\n",
        "        1    0.000    0.000    0.000    0.000 {numpy.core.multiarray.arange}\r\n",
        "        1    0.000    0.000   12.030   12.030 <string>:1(<module>)\r\n",
        "        1    0.000    0.000    0.000    0.000 mesher.py:1099(__iter__)\r\n",
        "        1    0.000    0.000    0.000    0.000 {method 'disable' of '_lsprof.Profiler' objects}"
       ]
      }
     ],
     "prompt_number": 56
    },
    {
     "cell_type": "markdown",
     "metadata": {},
     "source": [
      "Run [line_profiler](http://pythonhosted.org/line_profiler/) on _optimal_discretize to see what is slowing it down."
     ]
    },
    {
     "cell_type": "code",
     "collapsed": false,
     "input": [
      "from line_profiler import LineProfiler"
     ],
     "language": "python",
     "metadata": {},
     "outputs": [],
     "prompt_number": 57
    },
    {
     "cell_type": "code",
     "collapsed": false,
     "input": [
      "lp = LineProfiler(gravmag.tesseroid._optimal_discretize)\n",
      "lp.runcall(gravmag.tesseroid.gzz, lon, lat, height, model)\n",
      "lp.print_stats()"
     ],
     "language": "python",
     "metadata": {},
     "outputs": [
      {
       "output_type": "stream",
       "stream": "stdout",
       "text": [
        "Timer unit: 1e-06 s\n",
        "\n",
        "File: /home/leo/src/fatiando/fatiando/gravmag/tesseroid.py\n",
        "Function: _optimal_discretize at line 96\n",
        "Total time: 18.5539 s\n",
        "\n",
        "Line #      Hits         Time  Per Hit   % Time  Line Contents\n",
        "==============================================================\n",
        "    96                                           def _optimal_discretize(tesseroids, lons, lats, heights, kernel, ratio, dens):\n",
        "    97                                               \"\"\"\n",
        "    98                                               Calculate the effect of a given kernel in the most precise way by\n",
        "    99                                               adaptively discretizing the tesseroids into smaller ones.\n",
        "   100                                               \"\"\"\n",
        "   101         1            9      9.0      0.0      ndata = len(lons)\n",
        "   102                                               # Convert things to radians\n",
        "   103         1            9      9.0      0.0      d2r = numpy.pi/180.\n",
        "   104         1           74     74.0      0.0      rlons = d2r*lons\n",
        "   105         1          400    400.0      0.0      sinlats = numpy.sin(d2r*lats)\n",
        "   106         1          185    185.0      0.0      coslats = numpy.cos(d2r*lats)\n",
        "   107                                               # Transform the heights into radii\n",
        "   108         1           28     28.0      0.0      radii = MEAN_EARTH_RADIUS + heights\n",
        "   109                                               # Create some buffers to reduce memory allocation\n",
        "   110         1           56     56.0      0.0      distances = numpy.zeros(ndata, numpy.float)\n",
        "   111         1            7      7.0      0.0      lonc = numpy.zeros(2, numpy.float)\n",
        "   112         1            6      6.0      0.0      sinlatc = numpy.zeros(2, numpy.float)\n",
        "   113         1            9      9.0      0.0      coslatc = numpy.zeros(2, numpy.float)\n",
        "   114         1            8      8.0      0.0      rc = numpy.zeros(2, numpy.float)\n",
        "   115         1           29     29.0      0.0      allpoints = numpy.arange(ndata)\n",
        "   116                                               # Start the computations\n",
        "   117         1           21     21.0      0.0      result = numpy.zeros(ndata, numpy.float)\n",
        "   118       401        16123     40.2      0.1      for tesseroid in tesseroids:\n",
        "   119       400          554      1.4      0.0          if (tesseroid is None or\n",
        "   120       400          519      1.3      0.0              ('density' not in tesseroid.props and dens is None)):\n",
        "   121                                                       continue\n",
        "   122       400          465      1.2      0.0          if dens is not None:\n",
        "   123                                                       density = dens\n",
        "   124                                                   else:\n",
        "   125       400          570      1.4      0.0              density = tesseroid.props['density']\n",
        "   126       400         1278      3.2      0.0          queue = [(allpoints, tesseroid.get_bounds())]\n",
        "   127    390784       524940      1.3      2.8          while queue:\n",
        "   128    390384       691086      1.8      3.7              points, tess = queue.pop()\n",
        "   129    390384       488503      1.3      2.6              w, e, s, n, top, bottom = tess\n",
        "   130    390384       591443      1.5      3.2              size = max([MEAN_EARTH_RADIUS*d2r*(e - w),\n",
        "   131    390384       517845      1.3      2.8                          MEAN_EARTH_RADIUS*d2r*(n - s),\n",
        "   132    390384       799714      2.0      4.3                          top - bottom])\n",
        "   133    390384       521425      1.3      2.8              _kernels.distance(tess, rlons, sinlats, coslats, radii, points,\n",
        "   134    390384      1867042      4.8     10.1                      distances)\n",
        "   135    390384       513157      1.3      2.8              need_divide, dont_divide = _kernels.too_close(points, distances,\n",
        "   136    390384      2622208      6.7     14.1                      ratio*size)\n",
        "   137    390384       604027      1.5      3.3              if len(need_divide):\n",
        "   138     48748        68823      1.4      0.4                  if len(queue) >= 1000:\n",
        "   139                                                               raise ValueError('Tesseroid queue overflow')\n",
        "   140     48748       599503     12.3      3.2                  queue.extend(_half(tess, need_divide))\n",
        "   141    390384       508036      1.3      2.7              if len(dont_divide):\n",
        "   142    390384       476978      1.2      2.6                  kernel(tess, density, rlons, sinlats, coslats, radii, lonc,\n",
        "   143    390384      7138758     18.3     38.5                         sinlatc, coslatc, rc, result, dont_divide)\n",
        "   144         1           20     20.0      0.0      result *= G\n",
        "   145         1            2      2.0      0.0      return result\n",
        "\n"
       ]
      }
     ],
     "prompt_number": 58
    },
    {
     "cell_type": "code",
     "collapsed": false,
     "input": [],
     "language": "python",
     "metadata": {},
     "outputs": []
    }
   ],
   "metadata": {}
  }
 ]
}