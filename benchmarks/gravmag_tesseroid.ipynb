{
 "metadata": {
  "name": "gravmag_tesseroid"
 },
 "nbformat": 3,
 "nbformat_minor": 0,
 "worksheets": [
  {
   "cells": [
    {
     "cell_type": "markdown",
     "metadata": {},
     "source": [
      "# Benchmark the performance of gravmag.tesseroid\n",
      "\n",
      "Compare the fatiando implementation with [Tesseroids](http://leouieda.github.com/tesseroids/)"
     ]
    },
    {
     "cell_type": "code",
     "collapsed": false,
     "input": [
      "%pylab inline\n",
      "import re\n",
      "import numpy\n",
      "from fatiando import gridder, gravmag\n",
      "from fatiando.mesher import Tesseroid\n",
      "from fatiando.vis import mpl"
     ],
     "language": "python",
     "metadata": {},
     "outputs": [
      {
       "output_type": "stream",
       "stream": "stdout",
       "text": [
        "\n",
        "Welcome to pylab, a matplotlib-based Python environment [backend: module://IPython.zmq.pylab.backend_inline].\n",
        "For more information, type 'help(pylab)'.\n"
       ]
      }
     ],
     "prompt_number": 12
    },
    {
     "cell_type": "markdown",
     "metadata": {},
     "source": [
      "## Setup\n",
      "\n",
      "Make a model with a lot of tesseroids.\n",
      "Doesn't really matter that they are overlapping as I'm only interested in the speed."
     ]
    },
    {
     "cell_type": "code",
     "collapsed": false,
     "input": [
      "# The setup\n",
      "model = [Tesseroid(-1, 1, -1, 1, 0, -5000, {'density':1000})]*100\n",
      "area = [-10, 10, -10, 10]\n",
      "shape = [100, 100]\n",
      "lon, lat, height = gridder.regular(area, shape, z=500000)\n",
      "\n",
      "# Create a model file and a grid file for Tesseroids\n",
      "modfile = 'model.tmp'\n",
      "with open(modfile, 'w') as f:\n",
      "    for t in model:\n",
      "        f.write('%g %g %g %g %g %g %g\\n'\n",
      "            % (t.w, t.e, t.s, t.n, t.top, t.bottom, t.props['density']))\n",
      "gridfile = 'grid.tmp'\n",
      "numpy.savetxt(gridfile, numpy.transpose([lon, lat, height]), fmt='%g')\n",
      "\n",
      "lines = !wc -l model.tmp\n",
      "print \"lines\", lines[0]\n",
      "!head model.tmp\n",
      "lines = !wc -l grid.tmp\n",
      "print \"lines\", lines[0]\n",
      "!head grid.tmp"
     ],
     "language": "python",
     "metadata": {},
     "outputs": [
      {
       "output_type": "stream",
       "stream": "stdout",
       "text": [
        "lines 100 model.tmp\n",
        "-1 1 -1 1 0 -5000 1000\r\n",
        "-1 1 -1 1 0 -5000 1000\r\n",
        "-1 1 -1 1 0 -5000 1000\r\n",
        "-1 1 -1 1 0 -5000 1000\r\n",
        "-1 1 -1 1 0 -5000 1000\r\n",
        "-1 1 -1 1 0 -5000 1000\r\n",
        "-1 1 -1 1 0 -5000 1000\r\n",
        "-1 1 -1 1 0 -5000 1000\r\n",
        "-1 1 -1 1 0 -5000 1000\r\n",
        "-1 1 -1 1 0 -5000 1000\r\n"
       ]
      },
      {
       "output_type": "stream",
       "stream": "stdout",
       "text": [
        "lines 10000 grid.tmp\n",
        "-10 -10 500000\r\n",
        "-9.79798 -10 500000\r\n",
        "-9.59596 -10 500000\r\n",
        "-9.39394 -10 500000\r\n",
        "-9.19192 -10 500000\r\n",
        "-8.9899 -10 500000\r\n",
        "-8.78788 -10 500000\r\n",
        "-8.58586 -10 500000\r\n",
        "-8.38384 -10 500000\r\n",
        "-8.18182 -10 500000\r\n"
       ]
      }
     ],
     "prompt_number": 13
    },
    {
     "cell_type": "markdown",
     "metadata": {},
     "source": [
      "## Time the execution\n",
      "\n",
      "First, run Tesseroids on the model:"
     ]
    },
    {
     "cell_type": "code",
     "collapsed": false,
     "input": [
      "# Time Tesseroids\n",
      "print \"Tesseroids:\"\n",
      "def timetess():\n",
      "    !/home/leo/src/tesseroids/bin/tessgzz model.tmp < grid.tmp > out.tmp\n",
      "%timeit -r 3 -n 10 timetess()"
     ],
     "language": "python",
     "metadata": {},
     "outputs": [
      {
       "output_type": "stream",
       "stream": "stdout",
       "text": [
        "Tesseroids:\n"
       ]
      },
      {
       "output_type": "stream",
       "stream": "stdout",
       "text": [
        "10 loops, best of 3: 2.62 s per loop"
       ]
      },
      {
       "output_type": "stream",
       "stream": "stdout",
       "text": [
        "\n"
       ]
      }
     ],
     "prompt_number": 14
    },
    {
     "cell_type": "markdown",
     "metadata": {},
     "source": [
      "Now run the fatiando implementation:"
     ]
    },
    {
     "cell_type": "code",
     "collapsed": false,
     "input": [
      "# Time fatiando.gravmag.tesseroid\n",
      "print \"fatiando.gravmag.tesseroid:\"\n",
      "%timeit -r 3 -n 10 gravmag.tesseroid.gzz(model, lon, lat, height, ratio=3)\n",
      "result = gravmag.tesseroid.gzz(model, lon, lat, height, ratio=3)"
     ],
     "language": "python",
     "metadata": {},
     "outputs": [
      {
       "output_type": "stream",
       "stream": "stdout",
       "text": [
        "fatiando.gravmag.tesseroid:\n",
        "10 loops, best of 3: 5.79 s per loop"
       ]
      },
      {
       "output_type": "stream",
       "stream": "stdout",
       "text": [
        "\n"
       ]
      }
     ],
     "prompt_number": 15
    },
    {
     "cell_type": "markdown",
     "metadata": {},
     "source": [
      "Do some checks on the results"
     ]
    },
    {
     "cell_type": "code",
     "collapsed": false,
     "input": [
      "# Check the results\n",
      "result_tesseroids = numpy.loadtxt('out.tmp', usecols=(-1,), unpack=True)\n",
      "diff = result_tesseroids - result"
     ],
     "language": "python",
     "metadata": {},
     "outputs": [],
     "prompt_number": 16
    },
    {
     "cell_type": "code",
     "collapsed": false,
     "input": [
      "print abs(diff).max(), abs(result_tesseroids).max(), abs(result).max(), abs(result_tesseroids).min(), abs(result).min()"
     ],
     "language": "python",
     "metadata": {},
     "outputs": [
      {
       "output_type": "stream",
       "stream": "stdout",
       "text": [
        "1.59304351044e-05 23.5495240152 23.5495238896 0.000308942184241 0.000308171173741\n"
       ]
      }
     ],
     "prompt_number": 17
    },
    {
     "cell_type": "code",
     "collapsed": false,
     "input": [
      "mpl.figure(figsize=(21, 5))\n",
      "mpl.subplot(1, 3, 1)\n",
      "mpl.axis('scaled')\n",
      "mpl.contourf(lon, lat, result_tesseroids, shape, 30)\n",
      "mpl.colorbar()\n",
      "mpl.subplot(1, 3, 2)\n",
      "mpl.axis('scaled')\n",
      "mpl.contourf(lon, lat, result, shape, 30)\n",
      "mpl.colorbar()\n",
      "mpl.subplot(1, 3, 3)\n",
      "mpl.axis('scaled')\n",
      "mpl.contourf(lon, lat, diff, shape, 30)\n",
      "mpl.colorbar()"
     ],
     "language": "python",
     "metadata": {},
     "outputs": [
      {
       "output_type": "pyout",
       "prompt_number": 18,
       "text": [
        "<matplotlib.colorbar.Colorbar instance at 0x55608c0>"
       ]
      },
      {
       "output_type": "display_data",
       "png": "[encoded data removed]"
      }
     ],
     "prompt_number": 18
    },
    {
     "cell_type": "code",
     "collapsed": false,
     "input": [
      "# Clean the tmp files\n",
      "!rm -f *.tmp"
     ],
     "language": "python",
     "metadata": {},
     "outputs": [],
     "prompt_number": 19
    },
    {
     "cell_type": "markdown",
     "metadata": {},
     "source": [
      "## Profiling the fatiando code"
     ]
    },
    {
     "cell_type": "code",
     "collapsed": false,
     "input": [
      "%%prun -T gravmag_tesseroid.profile gravmag.tesseroid.gzz(model, lon, lat, height, ratio=3)"
     ],
     "language": "python",
     "metadata": {},
     "outputs": [
      {
       "output_type": "stream",
       "stream": "stdout",
       "text": [
        " "
       ]
      },
      {
       "output_type": "stream",
       "stream": "stdout",
       "text": [
        "\n",
        "*** Profile printout saved to text file u'gravmag_tesseroid.profile'. \n"
       ]
      }
     ],
     "prompt_number": 20
    },
    {
     "cell_type": "code",
     "collapsed": false,
     "input": [
      "!cat gravmag_tesseroid.profile"
     ],
     "language": "python",
     "metadata": {},
     "outputs": [
      {
       "output_type": "stream",
       "stream": "stdout",
       "text": [
        "         14706 function calls (14606 primitive calls) in 5.804 seconds\r\n",
        "\r\n",
        "   Ordered by: internal time\r\n",
        "\r\n",
        "   ncalls  tottime  percall  cumtime  percall filename:lineno(function)\r\n",
        "    101/1    3.660    0.036    5.804    5.804 tesseroid.py:84(gzz)\r\n",
        "      900    1.903    0.002    1.938    0.002 tesseroid.py:132(_kernel_gzz)\r\n",
        "      900    0.149    0.000    0.149    0.000 tesseroid.py:172(_distance)\r\n",
        "      900    0.053    0.000    0.053    0.000 {method 'difference' of 'set' objects}\r\n",
        "      900    0.022    0.000    0.022    0.000 tesseroid.py:119(_scale_nodes)\r\n",
        "     6300    0.010    0.000    0.010    0.000 {zip}\r\n",
        "     1001    0.003    0.000    0.003    0.000 {numpy.core.multiarray.zeros}\r\n",
        "      800    0.002    0.000    0.002    0.000 mesher.py:509(__init__)\r\n",
        "      100    0.001    0.000    0.003    0.000 tesseroid.py:160(_split)\r\n",
        "      101    0.001    0.000    0.001    0.000 {range}\r\n",
        "      900    0.001    0.000    0.001    0.000 {max}\r\n",
        "      800    0.000    0.000    0.000    0.000 mesher.py:46(__init__)\r\n",
        "     1001    0.000    0.000    0.000    0.000 {len}\r\n",
        "        1    0.000    0.000    5.804    5.804 <string>:1(<module>)\r\n",
        "        1    0.000    0.000    0.000    0.000 {method 'disable' of '_lsprof.Profiler' objects}"
       ]
      }
     ],
     "prompt_number": 21
    },
    {
     "cell_type": "code",
     "collapsed": false,
     "input": [],
     "language": "python",
     "metadata": {},
     "outputs": [],
     "prompt_number": 21
    }
   ],
   "metadata": {}
  }
 ]
}