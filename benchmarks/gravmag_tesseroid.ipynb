{
 "metadata": {
  "name": "gravmag_tesseroid"
 },
 "nbformat": 3,
 "nbformat_minor": 0,
 "worksheets": [
  {
   "cells": [
    {
     "cell_type": "code",
     "collapsed": false,
     "input": [
      "\"\"\"\n",
      "Benchmark the performance of gravmag.tesseroid\n",
      "Compare pure python, Cython code and Tesseroids \n",
      "(http://code.google.com/p/tesseroids/)\n",
      "\"\"\"\n",
      "import re\n",
      "import numpy\n",
      "from fatiando import gridder, gravmag\n",
      "from fatiando.mesher import Tesseroid"
     ],
     "language": "python",
     "metadata": {},
     "outputs": [],
     "prompt_number": 24
    },
    {
     "cell_type": "code",
     "collapsed": false,
     "input": [
      "# The setup\n",
      "model = [Tesseroid(-1, 1, -1, 1, 0, -5000, {'density':1000})]*100\n",
      "area = [-10, 10, -10, 10]\n",
      "shape = [100, 100]\n",
      "lon, lat, height = gridder.regular(area, shape, z=500000)\n",
      "n = 3 # number of times to run the calculation per timeit\n",
      "\n",
      "# Create a model file and a grid file for Tesseroids\n",
      "modfile = 'model.tmp'\n",
      "with open(modfile, 'w') as f:\n",
      "    for t in model:\n",
      "        f.write('%g %g %g %g %g %g %g\\n'\n",
      "            % (t.w, t.e, t.s, t.n, t.top, t.bottom, t.props['density']))\n",
      "gridfile = 'grid.tmp'\n",
      "numpy.savetxt(gridfile, numpy.transpose([lon, lat, height]), fmt='%g')\n",
      "\n",
      "lines = !wc -l model.tmp\n",
      "print \"lines\", lines[0]\n",
      "!head model.tmp\n",
      "lines = !wc -l grid.tmp\n",
      "print \"lines\", lines[0]\n",
      "!head grid.tmp"
     ],
     "language": "python",
     "metadata": {},
     "outputs": [
      {
       "output_type": "stream",
       "stream": "stdout",
       "text": [
        "lines"
       ]
      },
      {
       "output_type": "stream",
       "stream": "stdout",
       "text": [
        " 100 model.tmp\n",
        "-1 1 -1 1 0 -5000 1000\r\n",
        "-1 1 -1 1 0 -5000 1000\r\n",
        "-1 1 -1 1 0 -5000 1000\r\n",
        "-1 1 -1 1 0 -5000 1000\r\n",
        "-1 1 -1 1 0 -5000 1000\r\n",
        "-1 1 -1 1 0 -5000 1000\r\n",
        "-1 1 -1 1 0 -5000 1000\r\n",
        "-1 1 -1 1 0 -5000 1000\r\n",
        "-1 1 -1 1 0 -5000 1000\r\n",
        "-1 1 -1 1 0 -5000 1000\r\n"
       ]
      },
      {
       "output_type": "stream",
       "stream": "stdout",
       "text": [
        "lines 10000 grid.tmp\n",
        "-10 -10 500000\r\n",
        "-9.79798 -10 500000\r\n",
        "-9.59596 -10 500000\r\n",
        "-9.39394 -10 500000\r\n",
        "-9.19192 -10 500000\r\n",
        "-8.9899 -10 500000\r\n",
        "-8.78788 -10 500000\r\n",
        "-8.58586 -10 500000\r\n",
        "-8.38384 -10 500000\r\n",
        "-8.18182 -10 500000\r\n"
       ]
      }
     ],
     "prompt_number": 25
    },
    {
     "cell_type": "code",
     "collapsed": false,
     "input": [
      "# Time Tesseroids\n",
      "print \"Tesseroids:\"\n",
      "def timetess():\n",
      "    !/home/leo/src/tesseroids/bin/tessgzz model.tmp < grid.tmp > out.tmp\n",
      "%timeit -r 1 -n $n timetess()"
     ],
     "language": "python",
     "metadata": {},
     "outputs": [
      {
       "output_type": "stream",
       "stream": "stdout",
       "text": [
        "Tesseroids:\n"
       ]
      },
      {
       "output_type": "stream",
       "stream": "stdout",
       "text": [
        "3 loops, best of 1: 2.66 s per loop"
       ]
      },
      {
       "output_type": "stream",
       "stream": "stdout",
       "text": [
        "\n"
       ]
      }
     ],
     "prompt_number": 26
    },
    {
     "cell_type": "code",
     "collapsed": false,
     "input": [
      "# Time fatiando.gravmag.tesseroid\n",
      "print \"fatiando.gravmag.tesseroid:\"\n",
      "%timeit -r 1 -n $n gravmag.tesseroid.gzz(model, lon, lat, height, ratio=3)"
     ],
     "language": "python",
     "metadata": {},
     "outputs": [
      {
       "output_type": "stream",
       "stream": "stdout",
       "text": [
        "fatiando.gravmag.tesseroid:\n",
        "3 loops, best of 1: 62.9 s per loop"
       ]
      },
      {
       "output_type": "stream",
       "stream": "stdout",
       "text": [
        "\n"
       ]
      }
     ],
     "prompt_number": 27
    },
    {
     "cell_type": "code",
     "collapsed": false,
     "input": [
      "# Clean the tmp files\n",
      "!rm -f *.tmp\n",
      "\n",
      "\n"
     ],
     "language": "python",
     "metadata": {},
     "outputs": [],
     "prompt_number": 28
    },
    {
     "cell_type": "code",
     "collapsed": false,
     "input": [],
     "language": "python",
     "metadata": {},
     "outputs": [],
     "prompt_number": 28
    }
   ],
   "metadata": {}
  }
 ]
}