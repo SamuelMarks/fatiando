{
 "metadata": {
  "name": "seismic_wavefd_lovewaves"
 },
 "nbformat": 3,
 "nbformat_minor": 0,
 "worksheets": [
  {
   "cells": [
    {
     "cell_type": "code",
     "collapsed": false,
     "input": [
      "%pylab\n",
      "from matplotlib import animation\n",
      "from fatiando import seismic, gridder\n",
      "from fatiando.vis import mpl"
     ],
     "language": "python",
     "metadata": {},
     "outputs": [
      {
       "output_type": "stream",
       "stream": "stdout",
       "text": [
        "\n",
        "Welcome to pylab, a matplotlib-based Python environment [backend: TkAgg].\n",
        "For more information, type 'help(pylab)'.\n"
       ]
      },
      {
       "output_type": "stream",
       "stream": "stderr",
       "text": [
        "/usr/lib/pymodules/python2.7/matplotlib/__init__.py:923: UserWarning:  This call to matplotlib.use() has no effect\n",
        "because the the backend has already been chosen;\n",
        "matplotlib.use() must be called *before* pylab, matplotlib.pyplot,\n",
        "or matplotlib.backends is imported for the first time.\n",
        "\n",
        "  if warn: warnings.warn(_use_error_msg)\n"
       ]
      }
     ],
     "prompt_number": 25
    },
    {
     "cell_type": "code",
     "collapsed": false,
     "input": [
      "shape = (100, 1000)\n",
      "area = [0, 800000, 0, 80000]\n",
      "spacing = (area[-1]/shape[0], area[1]/shape[1])\n",
      "print spacing\n",
      "moho = int(40000/spacing[0])\n",
      "#moho = 0\n",
      "density = 2700*ones(shape)\n",
      "density[moho:,:] = 3100\n",
      "mu = ones(shape)\n",
      "mu[:moho,:] = density[:moho,:]*(3000**2) # Lame parameter\n",
      "mu[moho:,:] = density[moho:,:]*(6000**2)"
     ],
     "language": "python",
     "metadata": {},
     "outputs": [
      {
       "output_type": "stream",
       "stream": "stdout",
       "text": [
        "(800, 800)\n"
       ]
      }
     ],
     "prompt_number": 51
    },
    {
     "cell_type": "code",
     "collapsed": false,
     "input": [
      "sources = [seismic.wavefd.MexHatSource(int(10000/spacing[0]), int(10000/spacing[1]), 100, 60, delay=2),\n",
      "           seismic.wavefd.MexHatSource(int(11000/spacing[0]), int(10000/spacing[1]), 100, 60, delay=2.3),\n",
      "           seismic.wavefd.MexHatSource(int(12000/spacing[0]), int(12000/spacing[1]), 100, 60, delay=2.6)]"
     ],
     "language": "python",
     "metadata": {},
     "outputs": [],
     "prompt_number": 52
    },
    {
     "cell_type": "code",
     "collapsed": false,
     "input": [
      "maxdt = float(0.606*min(spacing))/6000\n",
      "print maxdt"
     ],
     "language": "python",
     "metadata": {},
     "outputs": [
      {
       "output_type": "stream",
       "stream": "stdout",
       "text": [
        "0.0808\n"
       ]
      }
     ],
     "prompt_number": 53
    },
    {
     "cell_type": "code",
     "collapsed": false,
     "input": [
      "dt = maxdt\n",
      "duration = 250\n",
      "maxit = int(duration/dt)\n",
      "padding = 80\n",
      "timesteps = seismic.wavefd.elastic_sh(spacing, shape, mu, density, dt, maxit, sources, padding=padding, taper=0.003)"
     ],
     "language": "python",
     "metadata": {},
     "outputs": [],
     "prompt_number": 54
    },
    {
     "cell_type": "code",
     "collapsed": false,
     "input": [
      "seismometer = int(700000/spacing[1])\n",
      "#vmin, vmax = -1*10**(-5), 1*10**(-5)\n",
      "gain = 10.**8\n",
      "fig = mpl.figure(figsize=(10, 6))\n",
      "mpl.subplot(2, 1, 1)\n",
      "mpl.title('Seismogram')\n",
      "seismogram, = mpl.plot([],[],'-k')\n",
      "mpl.xlim(0, duration)\n",
      "mpl.ylim(-5*10**(-4), 5*10**(-4))\n",
      "#mpl.xlabel('time (s)')\n",
      "mpl.ylabel('Amplitude')\n",
      "ax = mpl.subplot(2, 1, 2)\n",
      "# Start with everything zero and grab the plot so that it can be updated later\n",
      "#wavefield = mpl.imshow(zeros(shape), vmin=vmin, vmax=vmax, cmap=mpl.cm.gray_r)\n",
      "wavefield = mpl.imshow(density, cmap=mpl.cm.gray_r, vmin=2000, vmax=4000)\n",
      "mpl.plot(seismometer, 1, '^k')\n",
      "mpl.set_area([0, shape[1], shape[0], 0])\n",
      "ax.set_xticklabels(['%g' % (x*spacing[1]*0.001) for x in ax.get_xticks()])\n",
      "ax.set_yticklabels(['%g' % (y*spacing[0]*0.001) for y in ax.get_yticks()])\n",
      "mpl.xlabel('x (km)')\n",
      "mpl.ylabel('z (km)')\n",
      "amplitudes = []\n",
      "times = []\n",
      "# This function updates the plot every few timesteps\n",
      "steps_per_frame = int(1/dt)\n",
      "def animate(i):\n",
      "    for t, u in enumerate(timesteps):\n",
      "        times.append(dt*(t + i*steps_per_frame))\n",
      "        amplitudes.append(u[0, seismometer])\n",
      "        if t == steps_per_frame - 1:\n",
      "            mpl.title('time: %0.1f s' % (times[-1]))\n",
      "            wavefield.set_array(density + gain*u)\n",
      "            seismogram.set_data(times, amplitudes)\n",
      "            break\n",
      "    return wavefield, seismogram\n",
      "anim = animation.FuncAnimation(fig, animate, frames=maxit/steps_per_frame, interval=1)\n",
      "#anim.save('normal.mp4', fps=10)\n",
      "mpl.show()"
     ],
     "language": "python",
     "metadata": {},
     "outputs": [],
     "prompt_number": 55
    },
    {
     "cell_type": "code",
     "collapsed": false,
     "input": [],
     "language": "python",
     "metadata": {},
     "outputs": [],
     "prompt_number": 51
    },
    {
     "cell_type": "code",
     "collapsed": false,
     "input": [],
     "language": "python",
     "metadata": {},
     "outputs": []
    }
   ],
   "metadata": {}
  }
 ]
}